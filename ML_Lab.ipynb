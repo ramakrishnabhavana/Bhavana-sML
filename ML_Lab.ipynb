{
  "nbformat": 4,
  "nbformat_minor": 0,
  "metadata": {
    "colab": {
      "provenance": [],
      "authorship_tag": "ABX9TyOcBRMyN5/WRpE9dFW9MRYR",
      "include_colab_link": true
    },
    "kernelspec": {
      "name": "python3",
      "display_name": "Python 3"
    },
    "language_info": {
      "name": "python"
    }
  },
  "cells": [
    {
      "cell_type": "markdown",
      "metadata": {
        "id": "view-in-github",
        "colab_type": "text"
      },
      "source": [
        "<a href=\"https://colab.research.google.com/github/ramakrishnabhavana/Bhavana-sML/blob/main/ML_Lab.ipynb\" target=\"_parent\"><img src=\"https://colab.research.google.com/assets/colab-badge.svg\" alt=\"Open In Colab\"/></a>"
      ]
    },
    {
      "cell_type": "markdown",
      "source": [
        "Week-1"
      ],
      "metadata": {
        "id": "qlK8f8jdf9pH"
      }
    },
    {
      "cell_type": "code",
      "execution_count": null,
      "metadata": {
        "colab": {
          "base_uri": "https://localhost:8080/"
        },
        "id": "oDj0ErQ_0nka",
        "outputId": "e8d9b609-7b5b-47a9-c02a-8ba8d6df7960"
      },
      "outputs": [
        {
          "output_type": "stream",
          "name": "stdout",
          "text": [
            "            2014   2015    2016   2017\n",
            "Madhu      100.5  12000   20000  50000\n",
            "Kusum      150.8  18000   50000  60000\n",
            "Kinshuk    200.9  22000   70000  70000\n",
            "Ankit    30000.0  30000  100000  80000\n",
            "Shruti   40000.0  45000  125000  90000\n"
          ]
        }
      ],
      "source": [
        "import pandas as pd\n",
        "data = {\n",
        "    2014: [100.5, 150.8, 200.9, 30000, 40000],\n",
        "    2015: [12000, 18000, 22000, 30000, 45000],\n",
        "    2016: [20000, 50000, 70000, 100000, 125000],\n",
        "    2017: [50000, 60000, 70000, 80000, 90000]\n",
        "}\n",
        "index = ['Madhu', 'Kusum', 'Kinshuk', 'Ankit', 'Shruti']\n",
        "Sales = pd.DataFrame(data, index=index)\n",
        "print(Sales)"
      ]
    },
    {
      "cell_type": "code",
      "source": [
        "# a) Display the row labels of Sales\n",
        "print(\"a) Row Labels:\")\n",
        "print(Sales.index)\n",
        "\n",
        "# b) Display the column labels of Sales\n",
        "print(\"\\nb) Column Labels:\")\n",
        "print(Sales.columns)\n",
        "\n",
        "# c) Display the data types of each column of Sales\n",
        "print(\"\\nc) Data Types:\")\n",
        "print(Sales.dtypes)\n",
        "\n",
        "# d) Display the dimensions, shape, size and values of Sales\n",
        "print(\"\\nd) DataFrame Properties:\")\n",
        "print(\"Dimensions:\", Sales.ndim)\n",
        "print(\"Shape:\", Sales.shape)\n",
        "print(\"Size:\", Sales.size)\n",
        "print(\"Values:\\n\", Sales.values)\n",
        "\n",
        "# e) Display the last two rows of Sales\n",
        "print(\"\\ne) Last Two Rows:\")\n",
        "print(Sales.tail(2))\n",
        "\n",
        "# f) Display the first two columns of Sales\n",
        "print(\"\\nf) First Two Columns:\")\n",
        "print(Sales.iloc[:, :2])\n"
      ],
      "metadata": {
        "colab": {
          "base_uri": "https://localhost:8080/"
        },
        "id": "wgeIbArZ4ylX",
        "outputId": "e0a628fc-6874-447e-f0b2-6ccc6c398f36"
      },
      "execution_count": null,
      "outputs": [
        {
          "output_type": "stream",
          "name": "stdout",
          "text": [
            "a) Row Labels:\n",
            "Index(['Madhu', 'Kusum', 'Kinshuk', 'Ankit', 'Shruti'], dtype='object')\n",
            "\n",
            "b) Column Labels:\n",
            "Index([2014, 2015, 2016, 2017], dtype='int64')\n",
            "\n",
            "c) Data Types:\n",
            "2014    float64\n",
            "2015      int64\n",
            "2016      int64\n",
            "2017      int64\n",
            "dtype: object\n",
            "\n",
            "d) DataFrame Properties:\n",
            "Dimensions: 2\n",
            "Shape: (5, 4)\n",
            "Size: 20\n",
            "Values:\n",
            " [[1.005e+02 1.200e+04 2.000e+04 5.000e+04]\n",
            " [1.508e+02 1.800e+04 5.000e+04 6.000e+04]\n",
            " [2.009e+02 2.200e+04 7.000e+04 7.000e+04]\n",
            " [3.000e+04 3.000e+04 1.000e+05 8.000e+04]\n",
            " [4.000e+04 4.500e+04 1.250e+05 9.000e+04]]\n",
            "\n",
            "e) Last Two Rows:\n",
            "           2014   2015    2016   2017\n",
            "Ankit   30000.0  30000  100000  80000\n",
            "Shruti  40000.0  45000  125000  90000\n",
            "\n",
            "f) First Two Columns:\n",
            "            2014   2015\n",
            "Madhu      100.5  12000\n",
            "Kusum      150.8  18000\n",
            "Kinshuk    200.9  22000\n",
            "Ankit    30000.0  30000\n",
            "Shruti   40000.0  45000\n"
          ]
        }
      ]
    },
    {
      "cell_type": "code",
      "source": [
        "import pandas as pd\n",
        "data_2018 = {\n",
        "    'Madhu': 160000,\n",
        "    'Kusum': 110000,\n",
        "    'Kinshuk': 500000,\n",
        "    'Ankit': 340000,\n",
        "    'Shruti': 900000\n",
        "}\n",
        "\n",
        "# Convert the dictionary to a DataFrame\n",
        "Sales2 = pd.DataFrame.from_dict(data_2018, orient='index', columns=[2018])\n",
        "# Display the DataFrame\n",
        "print(\"g) Sales2 DataFrame:\")\n",
        "print(Sales2)\n",
        "#h Check if Sales2 is empty or it contains data.\n",
        "print(Sales2.empty)"
      ],
      "metadata": {
        "colab": {
          "base_uri": "https://localhost:8080/"
        },
        "id": "A9grZ51_5FAW",
        "outputId": "dde17bee-63bd-4d66-a6d1-3b4ef09b816d"
      },
      "execution_count": null,
      "outputs": [
        {
          "output_type": "stream",
          "name": "stdout",
          "text": [
            "g) Sales2 DataFrame:\n",
            "           2018\n",
            "Madhu    160000\n",
            "Kusum    110000\n",
            "Kinshuk  500000\n",
            "Ankit    340000\n",
            "Shruti   900000\n",
            "False\n"
          ]
        }
      ]
    },
    {
      "cell_type": "code",
      "source": [
        "import pandas as pd\n",
        "\n",
        "# Q9: Original Sales DataFrame\n",
        "Sales = pd.DataFrame({\n",
        "    2014: [100.5, 150.8, 200.9, 30000, 40000],\n",
        "    2015: [12000, 18000, 22000, 30000, 45000],\n",
        "    2016: [20000, 50000, 70000, 100000, 125000],\n",
        "    2017: [50000, 60000, 70000, 80000, 90000]\n",
        "}, index=['Madhu', 'Kusum', 'Kinshuk', 'Ankit', 'Shruti'])\n",
        "\n",
        "# Q10g: Create Sales2\n",
        "Sales2 = pd.DataFrame.from_dict({\n",
        "    'Madhu': 160000,\n",
        "    'Kusum': 110000,\n",
        "    'Kinshuk': 500000,\n",
        "    'Ankit': 340000,\n",
        "    'Shruti': 900000\n",
        "}, orient='index', columns=[2018])\n",
        "\n",
        "# a) Append Sales2 to Sales\n",
        "Sales = pd.concat([Sales, Sales2], axis=1)\n",
        "print(\"a) After appending Sales2:\\n\", Sales)\n",
        "\n",
        "# b) Transpose Sales\n",
        "Sales = Sales.T\n",
        "print(\"\\nb) Transposed Sales:\\n\", Sales)\n",
        "\n",
        "# c) Sales in 2017 (from transposed DataFrame)\n",
        "print(\"\\nc) Sales in 2017:\\n\", Sales.loc[2017])\n",
        "\n",
        "# d) Sales by Madhu and Ankit in 2017 and 2018\n",
        "print(\"\\nd) Madhu and Ankit sales in 2017 and 2018:\\n\", Sales.loc[[2017, 2018], ['Madhu', 'Ankit']])\n",
        "\n",
        "# e) Sales by Shruti in 2016\n",
        "print(\"\\ne) Shruti sales in 2016:\\n\", Sales.loc[2016, 'Shruti'])\n",
        "\n",
        "# f) Add Sumeet with sales for 2014–2018\n",
        "Sales['Sumeet'] = [196.2, 37800, 52000, 78438, 38852]\n",
        "print(\"\\nf) Added Sumeet:\\n\", Sales)\n",
        "\n",
        "# g) Delete data for 2014\n",
        "Sales = Sales.drop(index=2014)\n",
        "print(\"\\ng) Deleted 2014:\\n\", Sales)\n",
        "\n",
        "# h) Delete data for Kinshuk\n",
        "Sales = Sales.drop(columns='Kinshuk')\n",
        "print(\"\\nh) Deleted Kinshuk:\\n\", Sales)\n",
        "\n",
        "# i) Rename Ankit to Vivaan and Madhu to Shailesh\n",
        "Sales = Sales.rename(columns={'Ankit': 'Vivaan', 'Madhu': 'Shailesh'})\n",
        "print(\"\\ni) Renamed Ankit and Madhu:\\n\", Sales)\n",
        "\n",
        "# j) Update Shailesh's sale in 2018 to 100000\n",
        "Sales.loc[2018, 'Shailesh'] = 100000\n",
        "print(\"\\nj) Updated Shailesh's 2018 sale:\\n\", Sales)\n",
        "\n",
        "# k) Write to CSV without row or column labels\n",
        "Sales.to_csv('SalesFigures.csv', index=False, header=False)\n",
        "\n",
        "# l) Read from CSV and update labels\n",
        "SalesRetrieved = pd.read_csv('SalesFigures.csv', header=None)\n",
        "SalesRetrieved.index = Sales.index\n",
        "SalesRetrieved.columns = Sales.columns\n",
        "print(\"\\nl) SalesRetrieved with updated labels:\\n\", SalesRetrieved)\n"
      ],
      "metadata": {
        "colab": {
          "base_uri": "https://localhost:8080/"
        },
        "id": "_klrM9Qm5j-x",
        "outputId": "d75f3f5a-95c5-44f0-e8cd-333879181830"
      },
      "execution_count": null,
      "outputs": [
        {
          "output_type": "stream",
          "name": "stdout",
          "text": [
            "a) After appending Sales2:\n",
            "             2014   2015    2016   2017    2018\n",
            "Madhu      100.5  12000   20000  50000  160000\n",
            "Kusum      150.8  18000   50000  60000  110000\n",
            "Kinshuk    200.9  22000   70000  70000  500000\n",
            "Ankit    30000.0  30000  100000  80000  340000\n",
            "Shruti   40000.0  45000  125000  90000  900000\n",
            "\n",
            "b) Transposed Sales:\n",
            "          Madhu     Kusum   Kinshuk     Ankit    Shruti\n",
            "2014     100.5     150.8     200.9   30000.0   40000.0\n",
            "2015   12000.0   18000.0   22000.0   30000.0   45000.0\n",
            "2016   20000.0   50000.0   70000.0  100000.0  125000.0\n",
            "2017   50000.0   60000.0   70000.0   80000.0   90000.0\n",
            "2018  160000.0  110000.0  500000.0  340000.0  900000.0\n",
            "\n",
            "c) Sales in 2017:\n",
            " Madhu      50000.0\n",
            "Kusum      60000.0\n",
            "Kinshuk    70000.0\n",
            "Ankit      80000.0\n",
            "Shruti     90000.0\n",
            "Name: 2017, dtype: float64\n",
            "\n",
            "d) Madhu and Ankit sales in 2017 and 2018:\n",
            "          Madhu     Ankit\n",
            "2017   50000.0   80000.0\n",
            "2018  160000.0  340000.0\n",
            "\n",
            "e) Shruti sales in 2016:\n",
            " 125000.0\n",
            "\n",
            "f) Added Sumeet:\n",
            "          Madhu     Kusum   Kinshuk     Ankit    Shruti   Sumeet\n",
            "2014     100.5     150.8     200.9   30000.0   40000.0    196.2\n",
            "2015   12000.0   18000.0   22000.0   30000.0   45000.0  37800.0\n",
            "2016   20000.0   50000.0   70000.0  100000.0  125000.0  52000.0\n",
            "2017   50000.0   60000.0   70000.0   80000.0   90000.0  78438.0\n",
            "2018  160000.0  110000.0  500000.0  340000.0  900000.0  38852.0\n",
            "\n",
            "g) Deleted 2014:\n",
            "          Madhu     Kusum   Kinshuk     Ankit    Shruti   Sumeet\n",
            "2015   12000.0   18000.0   22000.0   30000.0   45000.0  37800.0\n",
            "2016   20000.0   50000.0   70000.0  100000.0  125000.0  52000.0\n",
            "2017   50000.0   60000.0   70000.0   80000.0   90000.0  78438.0\n",
            "2018  160000.0  110000.0  500000.0  340000.0  900000.0  38852.0\n",
            "\n",
            "h) Deleted Kinshuk:\n",
            "          Madhu     Kusum     Ankit    Shruti   Sumeet\n",
            "2015   12000.0   18000.0   30000.0   45000.0  37800.0\n",
            "2016   20000.0   50000.0  100000.0  125000.0  52000.0\n",
            "2017   50000.0   60000.0   80000.0   90000.0  78438.0\n",
            "2018  160000.0  110000.0  340000.0  900000.0  38852.0\n",
            "\n",
            "i) Renamed Ankit and Madhu:\n",
            "       Shailesh     Kusum    Vivaan    Shruti   Sumeet\n",
            "2015   12000.0   18000.0   30000.0   45000.0  37800.0\n",
            "2016   20000.0   50000.0  100000.0  125000.0  52000.0\n",
            "2017   50000.0   60000.0   80000.0   90000.0  78438.0\n",
            "2018  160000.0  110000.0  340000.0  900000.0  38852.0\n",
            "\n",
            "j) Updated Shailesh's 2018 sale:\n",
            "       Shailesh     Kusum    Vivaan    Shruti   Sumeet\n",
            "2015   12000.0   18000.0   30000.0   45000.0  37800.0\n",
            "2016   20000.0   50000.0  100000.0  125000.0  52000.0\n",
            "2017   50000.0   60000.0   80000.0   90000.0  78438.0\n",
            "2018  100000.0  110000.0  340000.0  900000.0  38852.0\n",
            "\n",
            "l) SalesRetrieved with updated labels:\n",
            "       Shailesh     Kusum    Vivaan    Shruti   Sumeet\n",
            "2015   12000.0   18000.0   30000.0   45000.0  37800.0\n",
            "2016   20000.0   50000.0  100000.0  125000.0  52000.0\n",
            "2017   50000.0   60000.0   80000.0   90000.0  78438.0\n",
            "2018  100000.0  110000.0  340000.0  900000.0  38852.0\n"
          ]
        }
      ]
    },
    {
      "cell_type": "code",
      "source": [],
      "metadata": {
        "id": "JPCotNpbgD7U"
      },
      "execution_count": null,
      "outputs": []
    }
  ]
}